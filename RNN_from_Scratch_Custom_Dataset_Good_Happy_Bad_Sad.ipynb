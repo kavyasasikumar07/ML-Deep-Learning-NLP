{
  "nbformat": 4,
  "nbformat_minor": 0,
  "metadata": {
    "colab": {
      "provenance": [],
      "include_colab_link": true
    },
    "kernelspec": {
      "name": "python3",
      "display_name": "Python 3"
    },
    "language_info": {
      "name": "python"
    }
  },
  "cells": [
    {
      "cell_type": "markdown",
      "metadata": {
        "id": "view-in-github",
        "colab_type": "text"
      },
      "source": [
        "<a href=\"https://colab.research.google.com/github/kavyasasikumar07/ML-Deep-Learning-NLP/blob/main/RNN_from_Scratch_Custom_Dataset_Good_Happy_Bad_Sad.ipynb\" target=\"_parent\"><img src=\"https://colab.research.google.com/assets/colab-badge.svg\" alt=\"Open In Colab\"/></a>"
      ]
    },
    {
      "cell_type": "code",
      "execution_count": null,
      "metadata": {
        "id": "_QH9AlvZKc0G"
      },
      "outputs": [],
      "source": [
        "train_data = {\n",
        "  'good': True,\n",
        "  'bad': False,\n",
        "  'happy': True,\n",
        "  'sad': False,\n",
        "  'not good': False,\n",
        "  'not bad': True,\n",
        "  'not happy': False,\n",
        "  'not sad': True,\n",
        "  'very good': True,\n",
        "  'very bad': False,\n",
        "  'very happy': True,\n",
        "  'very sad': False,\n",
        "  'i am happy': True,\n",
        "  'this is good': True,\n",
        "  'i am bad': False,\n",
        "  'this is bad': False,\n",
        "  'i am sad': False,\n",
        "  'this is sad': False,\n",
        "  'i am not happy': False,\n",
        "  'this is not good': False,\n",
        "  'i am not bad': True,\n",
        "  'this is not sad': True,\n",
        "  'i am very happy': True,\n",
        "  'this is very good': True,\n",
        "  'i am very bad': False,\n",
        "  'this is very sad': False,\n",
        "  'this is very happy': True,\n",
        "  'i am good not bad': True,\n",
        "  'this is good not bad': True,\n",
        "  'i am bad not good': False,\n",
        "  'i am good and happy': True,\n",
        "  'this is not good and not happy': False,\n",
        "  'i am not at all good': False,\n",
        "  'i am not at all bad': True,\n",
        "  'i am not at all happy': False,\n",
        "  'this is not at all sad': True,\n",
        "  'this is not at all happy': False,\n",
        "  'i am good right now': True,\n",
        "  'i am bad right now': False,\n",
        "  'this is bad right now': False,\n",
        "  'i am sad right now': False,\n",
        "  'i was good earlier': True,\n",
        "  'i was happy earlier': True,\n",
        "  'i was bad earlier': False,\n",
        "  'i was sad earlier': False,\n",
        "  'i am very bad right now': False,\n",
        "  'this is very good right now': True,\n",
        "  'this is very sad right now': False,\n",
        "  'this was bad earlier': False,\n",
        "  'this was very good earlier': True,\n",
        "  'this was very bad earlier': False,\n",
        "  'this was very happy earlier': True,\n",
        "  'this was very sad earlier': False,\n",
        "  'i was good and not bad earlier': True,\n",
        "  'i was not good and not happy earlier': False,\n",
        "  'i am not at all bad or sad right now': True,\n",
        "  'i am not at all good or happy right now': False,\n",
        "  'this was not happy and not good earlier': False,\n",
        "}\n",
        "\n",
        "test_data = {\n",
        "  'this is happy': True,\n",
        "  'i am good': True,\n",
        "  'this is not happy': False,\n",
        "  'i am not good': False,\n",
        "  'this is not bad': True,\n",
        "  'i am not sad': True,\n",
        "  'i am very good': True,\n",
        "  'this is very bad': False,\n",
        "  'i am very sad': False,\n",
        "  'this is bad not good': False,\n",
        "  'this is good and happy': True,\n",
        "  'i am not good and not happy': False,\n",
        "  'i am not at all sad': True,\n",
        "  'this is not at all good': False,\n",
        "  'this is not at all bad': True,\n",
        "  'this is good right now': True,\n",
        "  'this is sad right now': False,\n",
        "  'this is very bad right now': False,\n",
        "  'this was good earlier': True,\n",
        "  'i was not happy and not good earlier': False,\n",
        "}"
      ]
    },
    {
      "cell_type": "code",
      "source": [
        "train_data.keys()"
      ],
      "metadata": {
        "colab": {
          "base_uri": "https://localhost:8080/"
        },
        "id": "7CUgHQOfLMSX",
        "outputId": "901dee2b-dee6-4e22-e888-32757883ac02"
      },
      "execution_count": null,
      "outputs": [
        {
          "output_type": "execute_result",
          "data": {
            "text/plain": [
              "dict_keys(['good', 'bad', 'happy', 'sad', 'not good', 'not bad', 'not happy', 'not sad', 'very good', 'very bad', 'very happy', 'very sad', 'i am happy', 'this is good', 'i am bad', 'this is bad', 'i am sad', 'this is sad', 'i am not happy', 'this is not good', 'i am not bad', 'this is not sad', 'i am very happy', 'this is very good', 'i am very bad', 'this is very sad', 'this is very happy', 'i am good not bad', 'this is good not bad', 'i am bad not good', 'i am good and happy', 'this is not good and not happy', 'i am not at all good', 'i am not at all bad', 'i am not at all happy', 'this is not at all sad', 'this is not at all happy', 'i am good right now', 'i am bad right now', 'this is bad right now', 'i am sad right now', 'i was good earlier', 'i was happy earlier', 'i was bad earlier', 'i was sad earlier', 'i am very bad right now', 'this is very good right now', 'this is very sad right now', 'this was bad earlier', 'this was very good earlier', 'this was very bad earlier', 'this was very happy earlier', 'this was very sad earlier', 'i was good and not bad earlier', 'i was not good and not happy earlier', 'i am not at all bad or sad right now', 'i am not at all good or happy right now', 'this was not happy and not good earlier'])"
            ]
          },
          "metadata": {},
          "execution_count": 2
        }
      ]
    },
    {
      "cell_type": "code",
      "source": [
        "list(set(\"a a b a d c\".split(' ')))"
      ],
      "metadata": {
        "colab": {
          "base_uri": "https://localhost:8080/"
        },
        "id": "ha6j8vwWMqoy",
        "outputId": "c2fb981e-f992-4ad1-a06c-6ee68ea7fc39"
      },
      "execution_count": null,
      "outputs": [
        {
          "output_type": "execute_result",
          "data": {
            "text/plain": [
              "['c', 'a', 'b', 'd']"
            ]
          },
          "metadata": {},
          "execution_count": 3
        }
      ]
    },
    {
      "cell_type": "code",
      "source": [
        "vocab = list(set([w for text in train_data.keys() for w in text.split(' ')]))\n",
        "vocab_size = len(vocab)\n",
        "print('%d unique words found' % vocab_size) # 18 unique words found\n",
        "print(vocab)\n"
      ],
      "metadata": {
        "colab": {
          "base_uri": "https://localhost:8080/"
        },
        "id": "MAZrS48TLAg6",
        "outputId": "8cf0c0a8-4c73-4c95-d1ce-a12b85f3ae7b"
      },
      "execution_count": null,
      "outputs": [
        {
          "output_type": "stream",
          "name": "stdout",
          "text": [
            "18 unique words found\n",
            "['i', 'happy', 'all', 'now', 'very', 'and', 'bad', 'sad', 'or', 'am', 'right', 'earlier', 'was', 'good', 'this', 'at', 'not', 'is']\n"
          ]
        }
      ]
    },
    {
      "cell_type": "code",
      "source": [
        "# Assign indices to each word.\n",
        "word_to_idx = { w: i for i, w in enumerate(vocab) }\n",
        "idx_to_word = { i: w for i, w in enumerate(vocab) }\n",
        "print(word_to_idx['good']) # 16 (this may change)\n",
        "print(idx_to_word[0]) # sad (this may change)"
      ],
      "metadata": {
        "colab": {
          "base_uri": "https://localhost:8080/"
        },
        "id": "vvONQzpwLTkq",
        "outputId": "a5fe4965-d07c-4c65-d08a-08e7436d8ba5"
      },
      "execution_count": null,
      "outputs": [
        {
          "output_type": "stream",
          "name": "stdout",
          "text": [
            "13\n",
            "i\n"
          ]
        }
      ]
    },
    {
      "cell_type": "code",
      "source": [
        "idx_to_word"
      ],
      "metadata": {
        "colab": {
          "base_uri": "https://localhost:8080/"
        },
        "id": "6Y3vBzzTLYSb",
        "outputId": "c526a53e-45bb-4a61-a033-8ebd9ed93f58"
      },
      "execution_count": null,
      "outputs": [
        {
          "output_type": "execute_result",
          "data": {
            "text/plain": [
              "{0: 'i',\n",
              " 1: 'happy',\n",
              " 2: 'all',\n",
              " 3: 'now',\n",
              " 4: 'very',\n",
              " 5: 'and',\n",
              " 6: 'bad',\n",
              " 7: 'sad',\n",
              " 8: 'or',\n",
              " 9: 'am',\n",
              " 10: 'right',\n",
              " 11: 'earlier',\n",
              " 12: 'was',\n",
              " 13: 'good',\n",
              " 14: 'this',\n",
              " 15: 'at',\n",
              " 16: 'not',\n",
              " 17: 'is'}"
            ]
          },
          "metadata": {},
          "execution_count": 6
        }
      ]
    },
    {
      "cell_type": "code",
      "source": [
        "import numpy as np\n",
        "\n",
        "def createInputs(text):\n",
        "  '''\n",
        "  Returns an array of one-hot vectors representing the words\n",
        "  in the input text string.\n",
        "  - text is a string\n",
        "  - Each one-hot vector has shape (vocab_size, 1)\n",
        "  '''\n",
        "  inputs = []\n",
        "  for w in text.split(' '):\n",
        "    v = np.zeros((vocab_size, 1))\n",
        "    v[word_to_idx[w]] = 1\n",
        "    inputs.append(v)\n",
        "  return inputs"
      ],
      "metadata": {
        "id": "Ng42jbH1LZ65"
      },
      "execution_count": null,
      "outputs": []
    },
    {
      "cell_type": "code",
      "source": [
        "createInputs(\"i am very happy\")"
      ],
      "metadata": {
        "id": "gw8_4V8fLkwF",
        "colab": {
          "base_uri": "https://localhost:8080/"
        },
        "outputId": "44559f23-ad37-4d43-d94e-4a784ab8ba52"
      },
      "execution_count": null,
      "outputs": [
        {
          "output_type": "execute_result",
          "data": {
            "text/plain": [
              "[array([[1.],\n",
              "        [0.],\n",
              "        [0.],\n",
              "        [0.],\n",
              "        [0.],\n",
              "        [0.],\n",
              "        [0.],\n",
              "        [0.],\n",
              "        [0.],\n",
              "        [0.],\n",
              "        [0.],\n",
              "        [0.],\n",
              "        [0.],\n",
              "        [0.],\n",
              "        [0.],\n",
              "        [0.],\n",
              "        [0.],\n",
              "        [0.]]),\n",
              " array([[0.],\n",
              "        [0.],\n",
              "        [0.],\n",
              "        [0.],\n",
              "        [0.],\n",
              "        [0.],\n",
              "        [0.],\n",
              "        [0.],\n",
              "        [0.],\n",
              "        [1.],\n",
              "        [0.],\n",
              "        [0.],\n",
              "        [0.],\n",
              "        [0.],\n",
              "        [0.],\n",
              "        [0.],\n",
              "        [0.],\n",
              "        [0.]]),\n",
              " array([[0.],\n",
              "        [0.],\n",
              "        [0.],\n",
              "        [0.],\n",
              "        [1.],\n",
              "        [0.],\n",
              "        [0.],\n",
              "        [0.],\n",
              "        [0.],\n",
              "        [0.],\n",
              "        [0.],\n",
              "        [0.],\n",
              "        [0.],\n",
              "        [0.],\n",
              "        [0.],\n",
              "        [0.],\n",
              "        [0.],\n",
              "        [0.]]),\n",
              " array([[0.],\n",
              "        [1.],\n",
              "        [0.],\n",
              "        [0.],\n",
              "        [0.],\n",
              "        [0.],\n",
              "        [0.],\n",
              "        [0.],\n",
              "        [0.],\n",
              "        [0.],\n",
              "        [0.],\n",
              "        [0.],\n",
              "        [0.],\n",
              "        [0.],\n",
              "        [0.],\n",
              "        [0.],\n",
              "        [0.],\n",
              "        [0.]])]"
            ]
          },
          "metadata": {},
          "execution_count": 8
        }
      ]
    },
    {
      "cell_type": "code",
      "source": [
        "testip = \"i am very happy\"\n",
        "for txt, vec in zip(testip.split(\" \"), createInputs(testip)):\n",
        "  print(txt, list(vec))"
      ],
      "metadata": {
        "colab": {
          "base_uri": "https://localhost:8080/"
        },
        "id": "9M3mnQ8eMcLi",
        "outputId": "3bd58f16-3da4-49dc-8ed6-cc76d45ec177"
      },
      "execution_count": null,
      "outputs": [
        {
          "output_type": "stream",
          "name": "stdout",
          "text": [
            "i [array([1.]), array([0.]), array([0.]), array([0.]), array([0.]), array([0.]), array([0.]), array([0.]), array([0.]), array([0.]), array([0.]), array([0.]), array([0.]), array([0.]), array([0.]), array([0.]), array([0.]), array([0.])]\n",
            "am [array([0.]), array([0.]), array([0.]), array([0.]), array([0.]), array([0.]), array([0.]), array([0.]), array([0.]), array([1.]), array([0.]), array([0.]), array([0.]), array([0.]), array([0.]), array([0.]), array([0.]), array([0.])]\n",
            "very [array([0.]), array([0.]), array([0.]), array([0.]), array([1.]), array([0.]), array([0.]), array([0.]), array([0.]), array([0.]), array([0.]), array([0.]), array([0.]), array([0.]), array([0.]), array([0.]), array([0.]), array([0.])]\n",
            "happy [array([0.]), array([1.]), array([0.]), array([0.]), array([0.]), array([0.]), array([0.]), array([0.]), array([0.]), array([0.]), array([0.]), array([0.]), array([0.]), array([0.]), array([0.]), array([0.]), array([0.]), array([0.])]\n"
          ]
        }
      ]
    },
    {
      "cell_type": "code",
      "source": [
        "import numpy as np\n",
        "from numpy.random import randn"
      ],
      "metadata": {
        "id": "BIsPQ5HENo--"
      },
      "execution_count": null,
      "outputs": []
    },
    {
      "cell_type": "code",
      "source": [
        "class RNN:\n",
        "  # A Vanilla Recurrent Neural Network.\n",
        "\n",
        "  def __init__(self, input_size, output_size, hidden_size=64):\n",
        "    # Weights\n",
        "    self.Whh = randn(hidden_size, hidden_size) / 1000\n",
        "    self.Wxh = randn(hidden_size, input_size) / 1000\n",
        "    self.Why = randn(output_size, hidden_size) / 1000\n",
        "\n",
        "    # Biases\n",
        "    self.bh = np.zeros((hidden_size, 1))\n",
        "    self.by = np.zeros((output_size, 1))\n",
        "\n",
        "  def forward(self, inputs):\n",
        "\n",
        "    h = np.zeros((self.Whh.shape[0], 1))\n",
        "\n",
        "    self.last_inputs = inputs\n",
        "    self.last_hs = { 0: h }\n",
        "\n",
        "    for i, x in enumerate(inputs):\n",
        "      h = np.tanh(self.Wxh @ x + self.Whh @ h + self.bh)\n",
        "      self.last_hs[i + 1] = h\n",
        "\n",
        "    y = self.Why @ h + self.by\n",
        "    return y, h\n",
        "\n",
        "  def backprop(self, d_y, learn_rate=2e-2):\n",
        "      '''\n",
        "      Perform a backward pass of the RNN.\n",
        "      - d_y (dL/dy) has shape (output_size, 1).\n",
        "      - learn_rate is a float.\n",
        "      '''\n",
        "      n = len(self.last_inputs)\n",
        "\n",
        "      # Calculate dL/dWhy and dL/dby.\n",
        "      d_Why = d_y @ self.last_hs[n].T\n",
        "      d_by = d_y\n",
        "\n",
        "      # Initialize dL/dWhh, dL/dWxh, and dL/dbh to zero.\n",
        "      d_Whh = np.zeros(self.Whh.shape)\n",
        "      d_Wxh = np.zeros(self.Wxh.shape)\n",
        "      d_bh = np.zeros(self.bh.shape)\n",
        "\n",
        "      # Calculate dL/dh for the last h.\n",
        "      d_h = self.Why.T @ d_y\n",
        "\n",
        "      # Backpropagate through time.\n",
        "      for t in reversed(range(n)):\n",
        "        # An intermediate value: dL/dh * (1 - h^2)\n",
        "        temp = ((1 - self.last_hs[t + 1] ** 2) * d_h)\n",
        "\n",
        "        # dL/db = dL/dh * (1 - h^2)\n",
        "        d_bh += temp\n",
        "\n",
        "        # dL/dWhh = dL/dh * (1 - h^2) * h_{t-1}\n",
        "        d_Whh += temp @ self.last_hs[t].T\n",
        "\n",
        "        # dL/dWxh = dL/dh * (1 - h^2) * x\n",
        "        d_Wxh += temp @ self.last_inputs[t].T\n",
        "\n",
        "        # Next dL/dh = dL/dh * (1 - h^2) * Whh\n",
        "        d_h = self.Whh @ temp\n",
        "\n",
        "      # Clip to prevent exploding gradients.\n",
        "      for d in [d_Wxh, d_Whh, d_Why, d_bh, d_by]:\n",
        "        np.clip(d, -1, 1, out=d)\n",
        "\n",
        "      # Update weights and biases using gradient descent.\n",
        "      self.Whh -= learn_rate * d_Whh\n",
        "      self.Wxh -= learn_rate * d_Wxh\n",
        "      self.Why -= learn_rate * d_Why\n",
        "      self.bh -= learn_rate * d_bh\n",
        "      self.by -= learn_rate * d_by"
      ],
      "metadata": {
        "id": "zzYdlA2wLpQ6"
      },
      "execution_count": null,
      "outputs": []
    },
    {
      "cell_type": "code",
      "source": [
        "rnn = RNN(vocab_size, 2) # vocab_size is 18"
      ],
      "metadata": {
        "id": "mk0eKh9QNnhh"
      },
      "execution_count": null,
      "outputs": []
    },
    {
      "cell_type": "code",
      "source": [
        "rnn.__dict__"
      ],
      "metadata": {
        "colab": {
          "base_uri": "https://localhost:8080/"
        },
        "id": "5iDOPQpkN2pb",
        "outputId": "a7050304-5b73-4842-9825-7954c003d133"
      },
      "execution_count": null,
      "outputs": [
        {
          "output_type": "execute_result",
          "data": {
            "text/plain": [
              "{'Whh': array([[ 4.10953383e-04,  2.62315052e-04,  2.10858926e-04, ...,\n",
              "         -6.24547171e-04, -1.12843834e-03, -4.63703753e-05],\n",
              "        [ 8.23087757e-04,  6.73697530e-04,  3.26953700e-04, ...,\n",
              "         -1.84613635e-03,  1.20121630e-03, -4.89805201e-04],\n",
              "        [ 3.23362569e-04, -5.74926202e-04,  7.74375796e-04, ...,\n",
              "         -3.27171998e-04, -4.57435238e-04,  6.70350385e-04],\n",
              "        ...,\n",
              "        [ 1.16968372e-03, -3.35555691e-04, -2.43000028e-04, ...,\n",
              "          5.69851616e-04,  3.38949521e-04, -5.73344678e-04],\n",
              "        [-2.03540112e-04,  1.22529002e-03,  6.45008239e-04, ...,\n",
              "         -1.07350160e-03,  5.51067499e-04, -1.32410996e-03],\n",
              "        [ 5.46657699e-04,  2.13209491e-03,  7.45689157e-04, ...,\n",
              "          9.15601143e-04, -5.17896837e-04,  3.28521944e-04]]),\n",
              " 'Wxh': array([[-1.55454606e-03, -4.22441287e-04, -9.40196975e-05, ...,\n",
              "          5.54983536e-04, -9.02908847e-04, -8.05353054e-04],\n",
              "        [-7.48275293e-04, -4.92205677e-04, -1.52135254e-03, ...,\n",
              "         -1.24107422e-03, -4.40486029e-04, -5.70736010e-04],\n",
              "        [-2.48058939e-04, -3.54829483e-04, -6.09714219e-04, ...,\n",
              "         -1.32913859e-03,  1.35716578e-03,  8.62005610e-05],\n",
              "        ...,\n",
              "        [ 2.76088270e-03,  5.00325787e-04, -5.84662435e-04, ...,\n",
              "         -2.57359565e-04, -4.27843968e-04, -5.33063418e-04],\n",
              "        [ 1.13485828e-03, -4.08433041e-04, -1.39217093e-03, ...,\n",
              "         -1.16963142e-03, -9.60202027e-04,  7.07954345e-04],\n",
              "        [ 1.48613877e-03,  1.41269249e-03,  6.60089075e-04, ...,\n",
              "          1.13554377e-05,  1.90180515e-03, -1.99391050e-03]]),\n",
              " 'Why': array([[ 2.02289482e-04,  4.99366649e-04, -1.06170854e-03,\n",
              "          1.92490858e-03, -6.63528798e-04, -1.13865064e-03,\n",
              "          1.02327729e-03, -3.05376020e-04,  7.60377420e-04,\n",
              "         -6.54969387e-04,  3.95520616e-04,  9.78835228e-05,\n",
              "         -6.24567298e-04,  1.11929134e-03,  8.00358537e-04,\n",
              "          8.53986479e-04, -1.25207060e-03, -1.82461940e-03,\n",
              "         -1.24464576e-04,  8.68448850e-04,  5.45257811e-04,\n",
              "         -1.28381775e-04, -9.35979622e-04,  1.06761220e-03,\n",
              "         -7.28671348e-04, -6.47276385e-04,  3.85446039e-04,\n",
              "         -2.23198134e-03, -2.06284350e-03,  1.48522200e-03,\n",
              "         -1.10503785e-04,  1.09208436e-03, -7.01208187e-04,\n",
              "         -4.77762228e-04, -6.79183266e-04,  9.90727160e-04,\n",
              "         -1.55470175e-04,  9.40709096e-04,  9.83439165e-04,\n",
              "         -1.58070812e-04,  1.49597808e-03,  6.43242660e-04,\n",
              "          5.35837119e-04, -2.05429027e-04,  3.51312183e-04,\n",
              "          6.59989199e-06, -1.49998975e-03, -1.42393772e-03,\n",
              "         -1.45729840e-03,  1.18736717e-03, -5.66662867e-04,\n",
              "          7.57611843e-04, -4.60982452e-04,  7.18519150e-04,\n",
              "          1.34341061e-03, -2.59989122e-04, -1.90326461e-03,\n",
              "         -2.45948277e-04,  6.93139289e-04, -8.29237075e-06,\n",
              "         -1.01773260e-03, -1.01632912e-03, -1.96845217e-03,\n",
              "         -7.61137938e-04],\n",
              "        [-2.03999578e-03,  8.47501045e-04, -9.57153671e-04,\n",
              "         -2.57918851e-03, -1.51505382e-04, -4.93617936e-04,\n",
              "          4.38822236e-04,  8.17484162e-05, -5.06655683e-04,\n",
              "         -1.59524352e-03,  7.94987602e-04, -8.10744520e-04,\n",
              "         -6.67163599e-04, -1.17605014e-03, -1.40122352e-03,\n",
              "         -9.28744184e-04, -6.63049639e-04, -7.52638335e-04,\n",
              "         -1.28418285e-03,  5.35582401e-04,  3.17720224e-04,\n",
              "         -4.11470520e-04,  4.85541327e-04, -7.81572919e-04,\n",
              "         -6.93332059e-04,  1.19155131e-03,  8.94369464e-04,\n",
              "         -1.43258492e-03, -9.96341785e-04,  3.40440860e-04,\n",
              "         -2.78197473e-04,  1.40287402e-03,  1.20279639e-03,\n",
              "          4.59569286e-04, -7.77836495e-04,  5.71850594e-04,\n",
              "         -9.23547580e-05,  1.11987465e-03,  1.17859404e-03,\n",
              "         -1.26124509e-03,  1.11984478e-03, -1.03317250e-03,\n",
              "         -7.12895536e-04, -4.11669883e-04, -1.74898319e-05,\n",
              "         -2.12777155e-04,  2.41201489e-03, -2.98617066e-04,\n",
              "          7.72898566e-04,  5.05911073e-04, -2.76955053e-04,\n",
              "          2.33838070e-03, -4.35021043e-04,  5.84387014e-04,\n",
              "         -1.11857224e-03, -1.74642698e-03, -5.20201229e-04,\n",
              "          1.58061960e-03,  2.77204362e-04,  1.47887109e-03,\n",
              "          1.81428749e-05,  2.05679667e-03, -4.24919446e-04,\n",
              "          5.39439030e-04]]),\n",
              " 'bh': array([[0.],\n",
              "        [0.],\n",
              "        [0.],\n",
              "        [0.],\n",
              "        [0.],\n",
              "        [0.],\n",
              "        [0.],\n",
              "        [0.],\n",
              "        [0.],\n",
              "        [0.],\n",
              "        [0.],\n",
              "        [0.],\n",
              "        [0.],\n",
              "        [0.],\n",
              "        [0.],\n",
              "        [0.],\n",
              "        [0.],\n",
              "        [0.],\n",
              "        [0.],\n",
              "        [0.],\n",
              "        [0.],\n",
              "        [0.],\n",
              "        [0.],\n",
              "        [0.],\n",
              "        [0.],\n",
              "        [0.],\n",
              "        [0.],\n",
              "        [0.],\n",
              "        [0.],\n",
              "        [0.],\n",
              "        [0.],\n",
              "        [0.],\n",
              "        [0.],\n",
              "        [0.],\n",
              "        [0.],\n",
              "        [0.],\n",
              "        [0.],\n",
              "        [0.],\n",
              "        [0.],\n",
              "        [0.],\n",
              "        [0.],\n",
              "        [0.],\n",
              "        [0.],\n",
              "        [0.],\n",
              "        [0.],\n",
              "        [0.],\n",
              "        [0.],\n",
              "        [0.],\n",
              "        [0.],\n",
              "        [0.],\n",
              "        [0.],\n",
              "        [0.],\n",
              "        [0.],\n",
              "        [0.],\n",
              "        [0.],\n",
              "        [0.],\n",
              "        [0.],\n",
              "        [0.],\n",
              "        [0.],\n",
              "        [0.],\n",
              "        [0.],\n",
              "        [0.],\n",
              "        [0.],\n",
              "        [0.]]),\n",
              " 'by': array([[0.],\n",
              "        [0.]])}"
            ]
          },
          "metadata": {},
          "execution_count": 13
        }
      ]
    },
    {
      "cell_type": "code",
      "source": [
        "inputs = createInputs(\"i am very happy\")\n",
        "inputs"
      ],
      "metadata": {
        "id": "_TI_H8Q6OkTp",
        "colab": {
          "base_uri": "https://localhost:8080/"
        },
        "outputId": "0bd70ae1-7bb0-44d4-bae8-4e8883254aae"
      },
      "execution_count": null,
      "outputs": [
        {
          "output_type": "execute_result",
          "data": {
            "text/plain": [
              "[array([[1.],\n",
              "        [0.],\n",
              "        [0.],\n",
              "        [0.],\n",
              "        [0.],\n",
              "        [0.],\n",
              "        [0.],\n",
              "        [0.],\n",
              "        [0.],\n",
              "        [0.],\n",
              "        [0.],\n",
              "        [0.],\n",
              "        [0.],\n",
              "        [0.],\n",
              "        [0.],\n",
              "        [0.],\n",
              "        [0.],\n",
              "        [0.]]),\n",
              " array([[0.],\n",
              "        [0.],\n",
              "        [0.],\n",
              "        [0.],\n",
              "        [0.],\n",
              "        [0.],\n",
              "        [0.],\n",
              "        [0.],\n",
              "        [0.],\n",
              "        [1.],\n",
              "        [0.],\n",
              "        [0.],\n",
              "        [0.],\n",
              "        [0.],\n",
              "        [0.],\n",
              "        [0.],\n",
              "        [0.],\n",
              "        [0.]]),\n",
              " array([[0.],\n",
              "        [0.],\n",
              "        [0.],\n",
              "        [0.],\n",
              "        [1.],\n",
              "        [0.],\n",
              "        [0.],\n",
              "        [0.],\n",
              "        [0.],\n",
              "        [0.],\n",
              "        [0.],\n",
              "        [0.],\n",
              "        [0.],\n",
              "        [0.],\n",
              "        [0.],\n",
              "        [0.],\n",
              "        [0.],\n",
              "        [0.]]),\n",
              " array([[0.],\n",
              "        [1.],\n",
              "        [0.],\n",
              "        [0.],\n",
              "        [0.],\n",
              "        [0.],\n",
              "        [0.],\n",
              "        [0.],\n",
              "        [0.],\n",
              "        [0.],\n",
              "        [0.],\n",
              "        [0.],\n",
              "        [0.],\n",
              "        [0.],\n",
              "        [0.],\n",
              "        [0.],\n",
              "        [0.],\n",
              "        [0.]])]"
            ]
          },
          "metadata": {},
          "execution_count": 14
        }
      ]
    },
    {
      "cell_type": "code",
      "source": [
        "def softmax(xs):\n",
        "  # Applies the Softmax Function to the input array.\n",
        "  return np.exp(xs) / sum(np.exp(xs))"
      ],
      "metadata": {
        "id": "JfpktzqbQJ-L"
      },
      "execution_count": null,
      "outputs": []
    },
    {
      "cell_type": "code",
      "source": [
        "rnn.forward(inputs) # gives y and h"
      ],
      "metadata": {
        "colab": {
          "base_uri": "https://localhost:8080/"
        },
        "id": "-Ctb9cJtOoeC",
        "outputId": "e6c569d0-84fe-4adf-8666-af1c5a098e95"
      },
      "execution_count": null,
      "outputs": [
        {
          "output_type": "execute_result",
          "data": {
            "text/plain": [
              "(array([[3.83929972e-06],\n",
              "        [9.61695269e-06]]),\n",
              " array([[-4.28734670e-04],\n",
              "        [-4.81551062e-04],\n",
              "        [-3.52093871e-04],\n",
              "        [ 1.15017356e-03],\n",
              "        [ 2.06595108e-04],\n",
              "        [-2.60376959e-04],\n",
              "        [ 1.90465316e-04],\n",
              "        [ 2.48102043e-03],\n",
              "        [-1.51193838e-03],\n",
              "        [-1.83197610e-04],\n",
              "        [ 2.38825821e-04],\n",
              "        [-1.25868246e-04],\n",
              "        [-1.96131204e-04],\n",
              "        [ 4.70844769e-04],\n",
              "        [-7.34656350e-04],\n",
              "        [-1.23794463e-03],\n",
              "        [ 9.61486933e-04],\n",
              "        [-2.43853747e-03],\n",
              "        [-1.61989722e-04],\n",
              "        [ 1.63274016e-03],\n",
              "        [ 1.27508921e-03],\n",
              "        [ 1.37286889e-04],\n",
              "        [ 1.40504025e-04],\n",
              "        [-1.08225709e-03],\n",
              "        [ 5.97763229e-04],\n",
              "        [-2.36820001e-04],\n",
              "        [-1.73315632e-03],\n",
              "        [ 6.05000984e-05],\n",
              "        [-4.91786364e-04],\n",
              "        [-2.85501219e-04],\n",
              "        [ 1.74453293e-04],\n",
              "        [ 1.68892602e-03],\n",
              "        [ 9.91571811e-04],\n",
              "        [-2.23063242e-03],\n",
              "        [-2.68753347e-04],\n",
              "        [ 7.49689220e-04],\n",
              "        [-2.67791438e-03],\n",
              "        [-8.02138836e-04],\n",
              "        [-1.15491704e-03],\n",
              "        [ 3.76602008e-04],\n",
              "        [ 6.02961324e-04],\n",
              "        [ 4.67153104e-04],\n",
              "        [ 6.55187361e-04],\n",
              "        [-5.09894444e-04],\n",
              "        [-5.46158269e-04],\n",
              "        [-5.73045999e-04],\n",
              "        [ 1.34729769e-03],\n",
              "        [-1.65870809e-04],\n",
              "        [-1.08652709e-03],\n",
              "        [-7.12735719e-04],\n",
              "        [-2.22658474e-03],\n",
              "        [ 4.93228148e-04],\n",
              "        [ 2.18659718e-04],\n",
              "        [-1.48177293e-03],\n",
              "        [-2.05459922e-04],\n",
              "        [-1.01555084e-03],\n",
              "        [ 4.95338422e-04],\n",
              "        [ 7.04798189e-04],\n",
              "        [-6.30348134e-04],\n",
              "        [-1.07843447e-03],\n",
              "        [-2.19111404e-04],\n",
              "        [ 5.08365773e-04],\n",
              "        [-4.09799760e-04],\n",
              "        [ 1.42340367e-03]]))"
            ]
          },
          "metadata": {},
          "execution_count": 16
        }
      ]
    },
    {
      "cell_type": "code",
      "source": [
        "rnn.forward(inputs)[0] # y alone"
      ],
      "metadata": {
        "colab": {
          "base_uri": "https://localhost:8080/"
        },
        "id": "iq3SMxsHPXng",
        "outputId": "0b4e94db-86a6-4a70-f4ba-42cd3725e93e"
      },
      "execution_count": null,
      "outputs": [
        {
          "output_type": "execute_result",
          "data": {
            "text/plain": [
              "array([[3.83929972e-06],\n",
              "       [9.61695269e-06]])"
            ]
          },
          "metadata": {},
          "execution_count": 17
        }
      ]
    },
    {
      "cell_type": "code",
      "source": [
        "softmax(rnn.forward(inputs)[0])"
      ],
      "metadata": {
        "colab": {
          "base_uri": "https://localhost:8080/"
        },
        "id": "asi2-yaDPQ48",
        "outputId": "cd627d9d-89a1-40df-a489-1473940ce28d"
      },
      "execution_count": null,
      "outputs": [
        {
          "output_type": "execute_result",
          "data": {
            "text/plain": [
              "array([[0.49999856],\n",
              "       [0.50000144]])"
            ]
          },
          "metadata": {},
          "execution_count": 18
        }
      ]
    },
    {
      "cell_type": "code",
      "source": [
        "inputs = createInputs(\"i am happy\")\n",
        "softmax(rnn.forward(inputs)[0])"
      ],
      "metadata": {
        "colab": {
          "base_uri": "https://localhost:8080/"
        },
        "id": "dsHTQ6eUQlYy",
        "outputId": "80c3ab28-3291-496a-8a21-db71f3890247"
      },
      "execution_count": null,
      "outputs": [
        {
          "output_type": "execute_result",
          "data": {
            "text/plain": [
              "array([[0.49999858],\n",
              "       [0.50000142]])"
            ]
          },
          "metadata": {},
          "execution_count": 19
        }
      ]
    },
    {
      "cell_type": "code",
      "source": [
        "# sad [1, 0]\n",
        "# happy [0, 1]"
      ],
      "metadata": {
        "id": "zY75IuZAQvsV"
      },
      "execution_count": null,
      "outputs": []
    },
    {
      "cell_type": "code",
      "source": [
        "import random\n",
        "\n",
        "def processData(data, backprop=True):\n",
        "  '''\n",
        "  Returns the RNN's loss and accuracy for the given data.\n",
        "  - data is a dictionary mapping text to True or False.\n",
        "  - backprop determines if the backward phase should be run.\n",
        "  '''\n",
        "  items = list(data.items())\n",
        "  random.shuffle(items)\n",
        "\n",
        "  loss = 0\n",
        "  num_correct = 0\n",
        "\n",
        "  for x, y in items:\n",
        "    inputs = createInputs(x)\n",
        "    target = int(y)\n",
        "\n",
        "    # Forward\n",
        "    out, _ = rnn.forward(inputs)\n",
        "    probs = softmax(out)\n",
        "\n",
        "    # Calculate loss / accuracy\n",
        "    loss -= np.log(probs[target])\n",
        "    num_correct += int(np.argmax(probs) == target)\n",
        "\n",
        "    if backprop:\n",
        "      # Build dL/dy\n",
        "      d_L_d_y = probs\n",
        "      d_L_d_y[target] -= 1\n",
        "\n",
        "      # Backward\n",
        "      rnn.backprop(d_L_d_y)\n",
        "\n",
        "  return loss / len(data), num_correct / len(data)"
      ],
      "metadata": {
        "id": "r15JH8RyTuPA"
      },
      "execution_count": null,
      "outputs": []
    },
    {
      "cell_type": "code",
      "source": [
        "train_data"
      ],
      "metadata": {
        "colab": {
          "base_uri": "https://localhost:8080/"
        },
        "id": "5ccb36jtPtNz",
        "outputId": "583b7d3e-0fe5-4241-d8be-241b745cf809"
      },
      "execution_count": null,
      "outputs": [
        {
          "output_type": "execute_result",
          "data": {
            "text/plain": [
              "{'good': True,\n",
              " 'bad': False,\n",
              " 'happy': True,\n",
              " 'sad': False,\n",
              " 'not good': False,\n",
              " 'not bad': True,\n",
              " 'not happy': False,\n",
              " 'not sad': True,\n",
              " 'very good': True,\n",
              " 'very bad': False,\n",
              " 'very happy': True,\n",
              " 'very sad': False,\n",
              " 'i am happy': True,\n",
              " 'this is good': True,\n",
              " 'i am bad': False,\n",
              " 'this is bad': False,\n",
              " 'i am sad': False,\n",
              " 'this is sad': False,\n",
              " 'i am not happy': False,\n",
              " 'this is not good': False,\n",
              " 'i am not bad': True,\n",
              " 'this is not sad': True,\n",
              " 'i am very happy': True,\n",
              " 'this is very good': True,\n",
              " 'i am very bad': False,\n",
              " 'this is very sad': False,\n",
              " 'this is very happy': True,\n",
              " 'i am good not bad': True,\n",
              " 'this is good not bad': True,\n",
              " 'i am bad not good': False,\n",
              " 'i am good and happy': True,\n",
              " 'this is not good and not happy': False,\n",
              " 'i am not at all good': False,\n",
              " 'i am not at all bad': True,\n",
              " 'i am not at all happy': False,\n",
              " 'this is not at all sad': True,\n",
              " 'this is not at all happy': False,\n",
              " 'i am good right now': True,\n",
              " 'i am bad right now': False,\n",
              " 'this is bad right now': False,\n",
              " 'i am sad right now': False,\n",
              " 'i was good earlier': True,\n",
              " 'i was happy earlier': True,\n",
              " 'i was bad earlier': False,\n",
              " 'i was sad earlier': False,\n",
              " 'i am very bad right now': False,\n",
              " 'this is very good right now': True,\n",
              " 'this is very sad right now': False,\n",
              " 'this was bad earlier': False,\n",
              " 'this was very good earlier': True,\n",
              " 'this was very bad earlier': False,\n",
              " 'this was very happy earlier': True,\n",
              " 'this was very sad earlier': False,\n",
              " 'i was good and not bad earlier': True,\n",
              " 'i was not good and not happy earlier': False,\n",
              " 'i am not at all bad or sad right now': True,\n",
              " 'i am not at all good or happy right now': False,\n",
              " 'this was not happy and not good earlier': False}"
            ]
          },
          "metadata": {},
          "execution_count": 22
        }
      ]
    },
    {
      "cell_type": "code",
      "source": [
        "# Training loop\n",
        "for epoch in range(1000):\n",
        "  train_loss, train_acc = processData(train_data)\n",
        "\n",
        "  if epoch % 100 == 99:\n",
        "    print('--- Epoch %d' % (epoch + 1))\n",
        "    print('Train:\\tLoss %.3f | Accuracy: %.3f' % (train_loss, train_acc))\n",
        "\n",
        "    test_loss, test_acc = processData(test_data, backprop=False)\n",
        "    print('Test:\\tLoss %.3f | Accuracy: %.3f' % (test_loss, test_acc))"
      ],
      "metadata": {
        "colab": {
          "base_uri": "https://localhost:8080/"
        },
        "id": "IzRufI8lY7it",
        "outputId": "11350cb4-bac8-44aa-bf72-0963e3b2107c"
      },
      "execution_count": null,
      "outputs": [
        {
          "output_type": "stream",
          "name": "stdout",
          "text": [
            "--- Epoch 100\n",
            "Train:\tLoss 0.689 | Accuracy: 0.552\n",
            "Test:\tLoss 0.697 | Accuracy: 0.500\n",
            "--- Epoch 200\n",
            "Train:\tLoss 0.670 | Accuracy: 0.638\n",
            "Test:\tLoss 0.716 | Accuracy: 0.650\n",
            "--- Epoch 300\n",
            "Train:\tLoss 0.599 | Accuracy: 0.621\n",
            "Test:\tLoss 0.677 | Accuracy: 0.600\n",
            "--- Epoch 400\n",
            "Train:\tLoss 0.087 | Accuracy: 0.983\n",
            "Test:\tLoss 0.033 | Accuracy: 1.000\n",
            "--- Epoch 500\n",
            "Train:\tLoss 0.014 | Accuracy: 1.000\n",
            "Test:\tLoss 0.012 | Accuracy: 1.000\n",
            "--- Epoch 600\n",
            "Train:\tLoss 0.006 | Accuracy: 1.000\n",
            "Test:\tLoss 0.004 | Accuracy: 1.000\n",
            "--- Epoch 700\n",
            "Train:\tLoss 0.003 | Accuracy: 1.000\n",
            "Test:\tLoss 0.002 | Accuracy: 1.000\n",
            "--- Epoch 800\n",
            "Train:\tLoss 0.002 | Accuracy: 1.000\n",
            "Test:\tLoss 0.002 | Accuracy: 1.000\n",
            "--- Epoch 900\n",
            "Train:\tLoss 0.002 | Accuracy: 1.000\n",
            "Test:\tLoss 0.001 | Accuracy: 1.000\n",
            "--- Epoch 1000\n",
            "Train:\tLoss 0.002 | Accuracy: 1.000\n",
            "Test:\tLoss 0.001 | Accuracy: 1.000\n"
          ]
        }
      ]
    },
    {
      "cell_type": "code",
      "source": [
        "rnn.__dict__"
      ],
      "metadata": {
        "id": "0lv26G5iUhMl",
        "colab": {
          "base_uri": "https://localhost:8080/"
        },
        "outputId": "77635a61-edbc-4572-d2e0-3e23066f72ed"
      },
      "execution_count": null,
      "outputs": [
        {
          "output_type": "execute_result",
          "data": {
            "text/plain": [
              "{'Whh': array([[ 0.05923105,  0.00409632, -0.00950696, ..., -0.07523903,\n",
              "         -0.09376549,  0.01082401],\n",
              "        [ 0.01061991,  0.13237379, -0.01819926, ..., -0.11186169,\n",
              "         -0.00564171,  0.051756  ],\n",
              "        [-0.00410281, -0.00521764, -0.00104768, ...,  0.00773293,\n",
              "          0.00572992, -0.0054761 ],\n",
              "        ...,\n",
              "        [ 0.04826874,  0.19035342,  0.01543325, ..., -0.02069843,\n",
              "          0.0086014 ,  0.02797354],\n",
              "        [-0.03272217, -0.02682222,  0.00931817, ...,  0.04656658,\n",
              "          0.05923804, -0.02107237],\n",
              "        [ 0.03401292,  0.00383749, -0.00635861, ..., -0.00360706,\n",
              "         -0.02912946, -0.05652223]]),\n",
              " 'Wxh': array([[ 3.02859540e-01, -9.29201230e-02,  9.15080264e-02, ...,\n",
              "          7.27938243e-02,  1.61527634e-01,  7.46646803e-02],\n",
              "        [-3.54378711e-01, -2.60953836e-01, -2.88313374e-03, ...,\n",
              "         -6.18295196e-02, -4.88126239e-02, -2.62524327e-02],\n",
              "        [-5.15835591e-03,  4.51262734e-03, -6.88087069e-03, ...,\n",
              "         -5.87198806e-04, -1.91399317e-02, -5.10050119e-04],\n",
              "        ...,\n",
              "        [ 2.32900798e-01,  2.65323724e-01, -1.19037698e-01, ...,\n",
              "         -1.25640651e-01, -6.08520422e-01, -1.05736746e-01],\n",
              "        [-2.90459062e-01,  3.14704028e-02, -5.86648746e-02, ...,\n",
              "         -4.45100228e-02, -4.77997442e-02, -5.83367243e-02],\n",
              "        [-9.39961279e-02, -4.45723480e-02,  1.02315502e-02, ...,\n",
              "         -9.80696700e-04,  2.47570130e-01,  1.20281494e-02]]),\n",
              " 'Why': array([[-0.21727402, -0.41235478,  0.00914358, -0.27098373,  0.20902607,\n",
              "         -0.20477364, -0.06811345,  0.26404977, -0.26378278,  0.047306  ,\n",
              "         -0.00559781, -0.25094492, -0.22225268, -0.28230931, -0.26307054,\n",
              "         -0.20913861,  0.28596887, -0.28021675, -0.11073915, -0.25180233,\n",
              "          2.78132711,  0.44235632,  0.27845702, -0.22693479, -0.0643484 ,\n",
              "          0.23602155,  0.05689683, -0.18513286, -0.25709129,  0.28692906,\n",
              "          0.12974022,  0.27601164,  0.23351299, -0.13834243, -0.1401538 ,\n",
              "          0.18314199, -0.23546465,  0.48516592, -0.22442908,  0.00888284,\n",
              "          0.41063847, -0.21830593,  0.18003241, -0.20073718, -0.22283958,\n",
              "          0.37428639, -4.13415152, -0.34411773,  0.28781089, -0.27016478,\n",
              "          0.26219791,  0.21110401,  0.09428319, -0.28851765, -0.24154081,\n",
              "         -0.12827479, -0.14668493,  0.27484723, -0.24103684,  0.03469722,\n",
              "         -0.21603658, -0.11110539,  0.28475317, -0.04833236],\n",
              "        [ 0.21543631,  0.41370164, -0.01116244,  0.27032945, -0.2098411 ,\n",
              "          0.20314137,  0.06957555, -0.26427339,  0.2640365 , -0.04955622,\n",
              "          0.00678832,  0.25023206,  0.22096095,  0.28225255,  0.26246967,\n",
              "          0.20906386, -0.28788399,  0.27763949,  0.10933051,  0.25320636,\n",
              "         -2.78046413, -0.44289617, -0.27890746,  0.22722083,  0.0629264 ,\n",
              "         -0.23547727, -0.05561702,  0.18146829,  0.2540321 , -0.2851034 ,\n",
              "         -0.13012892, -0.27351668, -0.2330114 ,  0.13832424,  0.13869678,\n",
              "         -0.18157941,  0.23521683, -0.48310534,  0.22659111, -0.01030216,\n",
              "         -0.40802265,  0.217916  , -0.18020947,  0.20012008,  0.2231734 ,\n",
              "         -0.37449257,  4.13506355,  0.34239517, -0.28849529,  0.27185806,\n",
              "         -0.26304153, -0.20800801, -0.09517919,  0.28982055,  0.24176565,\n",
              "          0.12626838,  0.14426147, -0.27351256,  0.24200719, -0.03322664,\n",
              "          0.21503699,  0.11214585, -0.28714654,  0.04811067]]),\n",
              " 'bh': array([[ 0.47462932],\n",
              "        [-0.60162512],\n",
              "        [-0.04199069],\n",
              "        [ 0.48411761],\n",
              "        [-0.4505108 ],\n",
              "        [ 0.4302698 ],\n",
              "        [-0.55353378],\n",
              "        [-0.48308838],\n",
              "        [ 0.51415881],\n",
              "        [ 0.5605271 ],\n",
              "        [ 0.42738512],\n",
              "        [ 0.4721454 ],\n",
              "        [ 0.46322437],\n",
              "        [ 0.48307099],\n",
              "        [ 0.50983245],\n",
              "        [ 0.33291003],\n",
              "        [-0.48051855],\n",
              "        [ 0.47381958],\n",
              "        [-0.55076828],\n",
              "        [ 0.46781961],\n",
              "        [ 2.27505132],\n",
              "        [ 0.60463554],\n",
              "        [-0.51215227],\n",
              "        [ 0.47705053],\n",
              "        [-0.28688619],\n",
              "        [-0.49047732],\n",
              "        [ 0.53841853],\n",
              "        [-0.57266348],\n",
              "        [ 0.48753171],\n",
              "        [ 0.53623408],\n",
              "        [ 0.47962047],\n",
              "        [-0.46974322],\n",
              "        [-0.48344178],\n",
              "        [ 0.47575299],\n",
              "        [ 0.46485517],\n",
              "        [-0.44473028],\n",
              "        [ 0.49097727],\n",
              "        [ 0.64126162],\n",
              "        [-0.55978328],\n",
              "        [-0.38099143],\n",
              "        [ 0.59145454],\n",
              "        [ 0.44171336],\n",
              "        [ 0.48964591],\n",
              "        [ 0.45385924],\n",
              "        [ 0.48689359],\n",
              "        [ 0.57477843],\n",
              "        [-0.14389452],\n",
              "        [-0.56249241],\n",
              "        [-0.48219715],\n",
              "        [ 0.49222661],\n",
              "        [ 0.56123557],\n",
              "        [-0.4614423 ],\n",
              "        [-0.32130916],\n",
              "        [ 0.50108697],\n",
              "        [ 0.50243184],\n",
              "        [ 0.48892294],\n",
              "        [-0.52575203],\n",
              "        [-0.48690921],\n",
              "        [ 0.48309066],\n",
              "        [-0.37205103],\n",
              "        [-0.5706953 ],\n",
              "        [ 0.04409783],\n",
              "        [-0.51202403],\n",
              "        [-0.22008887]]),\n",
              " 'by': array([[-0.58883151],\n",
              "        [ 0.58883151]]),\n",
              " 'last_inputs': [array([[0.],\n",
              "         [0.],\n",
              "         [0.],\n",
              "         [0.],\n",
              "         [0.],\n",
              "         [0.],\n",
              "         [0.],\n",
              "         [0.],\n",
              "         [0.],\n",
              "         [0.],\n",
              "         [0.],\n",
              "         [0.],\n",
              "         [0.],\n",
              "         [0.],\n",
              "         [1.],\n",
              "         [0.],\n",
              "         [0.],\n",
              "         [0.]]),\n",
              "  array([[0.],\n",
              "         [0.],\n",
              "         [0.],\n",
              "         [0.],\n",
              "         [0.],\n",
              "         [0.],\n",
              "         [0.],\n",
              "         [0.],\n",
              "         [0.],\n",
              "         [0.],\n",
              "         [0.],\n",
              "         [0.],\n",
              "         [1.],\n",
              "         [0.],\n",
              "         [0.],\n",
              "         [0.],\n",
              "         [0.],\n",
              "         [0.]]),\n",
              "  array([[0.],\n",
              "         [0.],\n",
              "         [0.],\n",
              "         [0.],\n",
              "         [0.],\n",
              "         [0.],\n",
              "         [0.],\n",
              "         [0.],\n",
              "         [0.],\n",
              "         [0.],\n",
              "         [0.],\n",
              "         [0.],\n",
              "         [0.],\n",
              "         [1.],\n",
              "         [0.],\n",
              "         [0.],\n",
              "         [0.],\n",
              "         [0.]]),\n",
              "  array([[0.],\n",
              "         [0.],\n",
              "         [0.],\n",
              "         [0.],\n",
              "         [0.],\n",
              "         [0.],\n",
              "         [0.],\n",
              "         [0.],\n",
              "         [0.],\n",
              "         [0.],\n",
              "         [0.],\n",
              "         [1.],\n",
              "         [0.],\n",
              "         [0.],\n",
              "         [0.],\n",
              "         [0.],\n",
              "         [0.],\n",
              "         [0.]])],\n",
              " 'last_hs': {0: array([[0.],\n",
              "         [0.],\n",
              "         [0.],\n",
              "         [0.],\n",
              "         [0.],\n",
              "         [0.],\n",
              "         [0.],\n",
              "         [0.],\n",
              "         [0.],\n",
              "         [0.],\n",
              "         [0.],\n",
              "         [0.],\n",
              "         [0.],\n",
              "         [0.],\n",
              "         [0.],\n",
              "         [0.],\n",
              "         [0.],\n",
              "         [0.],\n",
              "         [0.],\n",
              "         [0.],\n",
              "         [0.],\n",
              "         [0.],\n",
              "         [0.],\n",
              "         [0.],\n",
              "         [0.],\n",
              "         [0.],\n",
              "         [0.],\n",
              "         [0.],\n",
              "         [0.],\n",
              "         [0.],\n",
              "         [0.],\n",
              "         [0.],\n",
              "         [0.],\n",
              "         [0.],\n",
              "         [0.],\n",
              "         [0.],\n",
              "         [0.],\n",
              "         [0.],\n",
              "         [0.],\n",
              "         [0.],\n",
              "         [0.],\n",
              "         [0.],\n",
              "         [0.],\n",
              "         [0.],\n",
              "         [0.],\n",
              "         [0.],\n",
              "         [0.],\n",
              "         [0.],\n",
              "         [0.],\n",
              "         [0.],\n",
              "         [0.],\n",
              "         [0.],\n",
              "         [0.],\n",
              "         [0.],\n",
              "         [0.],\n",
              "         [0.],\n",
              "         [0.],\n",
              "         [0.],\n",
              "         [0.],\n",
              "         [0.],\n",
              "         [0.],\n",
              "         [0.],\n",
              "         [0.],\n",
              "         [0.]]),\n",
              "  1: array([[ 0.72733329],\n",
              "         [-0.7638019 ],\n",
              "         [-0.04854222],\n",
              "         [ 0.70098947],\n",
              "         [-0.69282363],\n",
              "         [ 0.6865224 ],\n",
              "         [-0.72517012],\n",
              "         [-0.70315477],\n",
              "         [ 0.73338704],\n",
              "         [ 0.70680666],\n",
              "         [ 0.59477024],\n",
              "         [ 0.69917594],\n",
              "         [ 0.70014602],\n",
              "         [ 0.70286715],\n",
              "         [ 0.73205538],\n",
              "         [ 0.6414741 ],\n",
              "         [-0.70488452],\n",
              "         [ 0.69968767],\n",
              "         [-0.70713151],\n",
              "         [ 0.69702782],\n",
              "         [ 0.99140398],\n",
              "         [ 0.76447223],\n",
              "         [-0.72666393],\n",
              "         [ 0.72620127],\n",
              "         [-0.3389796 ],\n",
              "         [-0.70742837],\n",
              "         [ 0.69205884],\n",
              "         [-0.73920162],\n",
              "         [ 0.70326318],\n",
              "         [ 0.71944922],\n",
              "         [ 0.66273422],\n",
              "         [-0.69610589],\n",
              "         [-0.72541779],\n",
              "         [ 0.71400973],\n",
              "         [ 0.7182654 ],\n",
              "         [-0.69857943],\n",
              "         [ 0.70768815],\n",
              "         [ 0.78666734],\n",
              "         [-0.74270625],\n",
              "         [-0.55737923],\n",
              "         [ 0.75585221],\n",
              "         [ 0.69451145],\n",
              "         [ 0.67650908],\n",
              "         [ 0.72073789],\n",
              "         [ 0.73148127],\n",
              "         [ 0.74850044],\n",
              "         [ 0.70196421],\n",
              "         [-0.75562221],\n",
              "         [-0.7050295 ],\n",
              "         [ 0.70359737],\n",
              "         [ 0.73507945],\n",
              "         [-0.69404816],\n",
              "         [-0.47500967],\n",
              "         [ 0.70886542],\n",
              "         [ 0.71066404],\n",
              "         [ 0.71341658],\n",
              "         [-0.73212784],\n",
              "         [-0.70493595],\n",
              "         [ 0.70498639],\n",
              "         [-0.54408206],\n",
              "         [-0.73433318],\n",
              "         [ 0.24330194],\n",
              "         [-0.72735104],\n",
              "         [-0.31477852]]),\n",
              "  2: array([[ 0.96637505],\n",
              "         [-0.95554667],\n",
              "         [-0.08076356],\n",
              "         [ 0.64908633],\n",
              "         [-0.99182757],\n",
              "         [ 0.99353428],\n",
              "         [-0.98287744],\n",
              "         [-0.68216114],\n",
              "         [ 0.90772159],\n",
              "         [ 0.97465149],\n",
              "         [ 0.92773495],\n",
              "         [ 0.86234243],\n",
              "         [ 0.98463646],\n",
              "         [ 0.61589493],\n",
              "         [ 0.90795522],\n",
              "         [ 0.13168762],\n",
              "         [-0.6099386 ],\n",
              "         [ 0.595468  ],\n",
              "         [-0.97943881],\n",
              "         [ 0.74646856],\n",
              "         [ 0.99772326],\n",
              "         [ 0.95909758],\n",
              "         [-0.84183177],\n",
              "         [ 0.95013274],\n",
              "         [ 0.56325588],\n",
              "         [-0.9735167 ],\n",
              "         [ 0.97686892],\n",
              "         [-0.98612258],\n",
              "         [ 0.82144541],\n",
              "         [ 0.98327778],\n",
              "         [ 0.98216144],\n",
              "         [-0.58474898],\n",
              "         [-0.93711593],\n",
              "         [ 0.99721202],\n",
              "         [ 0.99775458],\n",
              "         [-0.99706938],\n",
              "         [ 0.97292747],\n",
              "         [ 0.96566845],\n",
              "         [-0.98837184],\n",
              "         [ 0.56342784],\n",
              "         [ 0.95429474],\n",
              "         [ 0.98857266],\n",
              "         [ 0.98359726],\n",
              "         [ 0.97267739],\n",
              "         [ 0.96228961],\n",
              "         [ 0.95261177],\n",
              "         [ 0.75389939],\n",
              "         [-0.96351371],\n",
              "         [-0.6150014 ],\n",
              "         [ 0.71369749],\n",
              "         [ 0.98907687],\n",
              "         [-0.99078831],\n",
              "         [ 0.82267208],\n",
              "         [ 0.65941462],\n",
              "         [ 0.96553375],\n",
              "         [ 0.99601312],\n",
              "         [-0.987452  ],\n",
              "         [-0.66951275],\n",
              "         [ 0.96358618],\n",
              "         [ 0.64055322],\n",
              "         [-0.98720352],\n",
              "         [-0.99524146],\n",
              "         [-0.82959264],\n",
              "         [ 0.43230582]]),\n",
              "  3: array([[ 0.97617752],\n",
              "         [-0.98936203],\n",
              "         [-0.11170779],\n",
              "         [ 0.65574758],\n",
              "         [-0.99800924],\n",
              "         [ 0.99850724],\n",
              "         [-0.99657781],\n",
              "         [-0.71118651],\n",
              "         [ 0.92055719],\n",
              "         [ 0.99640411],\n",
              "         [ 0.9894615 ],\n",
              "         [ 0.92234182],\n",
              "         [ 0.99568121],\n",
              "         [ 0.56910488],\n",
              "         [ 0.91931291],\n",
              "         [-0.19546831],\n",
              "         [-0.55573843],\n",
              "         [ 0.53818572],\n",
              "         [-0.9966054 ],\n",
              "         [ 0.80891262],\n",
              "         [ 0.99954894],\n",
              "         [ 0.99081592],\n",
              "         [-0.84567342],\n",
              "         [ 0.96078528],\n",
              "         [ 0.4501489 ],\n",
              "         [-0.99151458],\n",
              "         [ 0.99673354],\n",
              "         [-0.9969864 ],\n",
              "         [ 0.88909438],\n",
              "         [ 0.99619048],\n",
              "         [ 0.99650833],\n",
              "         [-0.52649523],\n",
              "         [-0.94752842],\n",
              "         [ 0.99961053],\n",
              "         [ 0.99969262],\n",
              "         [-0.99955261],\n",
              "         [ 0.9912837 ],\n",
              "         [ 0.99241143],\n",
              "         [-0.99709342],\n",
              "         [ 0.31365032],\n",
              "         [ 0.9892619 ],\n",
              "         [ 0.99700696],\n",
              "         [ 0.99658415],\n",
              "         [ 0.9809632 ],\n",
              "         [ 0.9724418 ],\n",
              "         [ 0.98736184],\n",
              "         [ 0.9826137 ],\n",
              "         [-0.98850631],\n",
              "         [-0.5609343 ],\n",
              "         [ 0.77028899],\n",
              "         [ 0.99755124],\n",
              "         [-0.99770852],\n",
              "         [ 0.763544  ],\n",
              "         [ 0.70977486],\n",
              "         [ 0.98822292],\n",
              "         [ 0.99941574],\n",
              "         [-0.9966382 ],\n",
              "         [-0.66295215],\n",
              "         [ 0.98714044],\n",
              "         [ 0.48697158],\n",
              "         [-0.99731125],\n",
              "         [-0.99803751],\n",
              "         [-0.83681954],\n",
              "         [ 0.22157839]]),\n",
              "  4: array([[ 0.98148308],\n",
              "         [-0.98017549],\n",
              "         [-0.10191114],\n",
              "         [ 0.75522129],\n",
              "         [-0.99823036],\n",
              "         [ 0.99860774],\n",
              "         [-0.99489378],\n",
              "         [-0.78418072],\n",
              "         [ 0.92825092],\n",
              "         [ 0.99420052],\n",
              "         [ 0.98353668],\n",
              "         [ 0.93765647],\n",
              "         [ 0.99608018],\n",
              "         [ 0.64687131],\n",
              "         [ 0.92685276],\n",
              "         [ 0.1003042 ],\n",
              "         [-0.61334346],\n",
              "         [ 0.62906051],\n",
              "         [-0.9939272 ],\n",
              "         [ 0.84878368],\n",
              "         [ 0.99993351],\n",
              "         [ 0.98215196],\n",
              "         [-0.85727638],\n",
              "         [ 0.96883964],\n",
              "         [ 0.57611752],\n",
              "         [-0.99275003],\n",
              "         [ 0.99440645],\n",
              "         [-0.99457749],\n",
              "         [ 0.91381888],\n",
              "         [ 0.992162  ],\n",
              "         [ 0.99383207],\n",
              "         [-0.66921352],\n",
              "         [-0.95782515],\n",
              "         [ 0.99954139],\n",
              "         [ 0.99960967],\n",
              "         [-0.99953125],\n",
              "         [ 0.99253605],\n",
              "         [ 0.98490451],\n",
              "         [-0.99479865],\n",
              "         [ 0.53554683],\n",
              "         [ 0.97974618],\n",
              "         [ 0.99717549],\n",
              "         [ 0.99363928],\n",
              "         [ 0.9860452 ],\n",
              "         [ 0.97796415],\n",
              "         [ 0.97657799],\n",
              "         [ 0.87551198],\n",
              "         [-0.97842835],\n",
              "         [-0.62272615],\n",
              "         [ 0.83812857],\n",
              "         [ 0.99510821],\n",
              "         [-0.99796138],\n",
              "         [ 0.83652001],\n",
              "         [ 0.80595383],\n",
              "         [ 0.99026812],\n",
              "         [ 0.99933414],\n",
              "         [-0.99464453],\n",
              "         [-0.73073145],\n",
              "         [ 0.98892843],\n",
              "         [ 0.64720728],\n",
              "         [-0.99481775],\n",
              "         [-0.99952721],\n",
              "         [-0.84195906],\n",
              "         [ 0.35891654]])}}"
            ]
          },
          "metadata": {},
          "execution_count": 24
        }
      ]
    },
    {
      "cell_type": "code",
      "source": [
        "inputs = createInputs(\"i am happy\")\n",
        "out, _ = rnn.forward(inputs)\n",
        "softmax(out)"
      ],
      "metadata": {
        "colab": {
          "base_uri": "https://localhost:8080/"
        },
        "id": "VHSxdhFAaHP1",
        "outputId": "bdabc0e5-32b9-4342-f97b-ea2b405d0669"
      },
      "execution_count": null,
      "outputs": [
        {
          "output_type": "execute_result",
          "data": {
            "text/plain": [
              "array([[1.58536794e-04],\n",
              "       [9.99841463e-01]])"
            ]
          },
          "metadata": {},
          "execution_count": 25
        }
      ]
    },
    {
      "cell_type": "code",
      "source": [
        "inputs = createInputs(\"i am sad\")\n",
        "out, _ = rnn.forward(inputs)\n",
        "softmax(out)"
      ],
      "metadata": {
        "colab": {
          "base_uri": "https://localhost:8080/"
        },
        "id": "vqTjjekGaWAJ",
        "outputId": "2c271fd7-9e4b-472d-add6-85fd21c7c9c8"
      },
      "execution_count": null,
      "outputs": [
        {
          "output_type": "execute_result",
          "data": {
            "text/plain": [
              "array([[0.99835552],\n",
              "       [0.00164448]])"
            ]
          },
          "metadata": {},
          "execution_count": 26
        }
      ]
    },
    {
      "cell_type": "code",
      "source": [
        "inputs = createInputs(\"i am great\")\n",
        "out, _ = rnn.forward(inputs)\n",
        "softmax(out)\n",
        "\n",
        "# Out of Vocab Word"
      ],
      "metadata": {
        "id": "vu4wpOCbU6YJ",
        "colab": {
          "base_uri": "https://localhost:8080/",
          "height": 366
        },
        "outputId": "0b4fbe40-7499-479e-cc22-3108d2b42007"
      },
      "execution_count": null,
      "outputs": [
        {
          "output_type": "error",
          "ename": "KeyError",
          "evalue": "'great'",
          "traceback": [
            "\u001b[0;31m---------------------------------------------------------------------------\u001b[0m",
            "\u001b[0;31mKeyError\u001b[0m                                  Traceback (most recent call last)",
            "\u001b[0;32m<ipython-input-29-89f5b937a547>\u001b[0m in \u001b[0;36m<cell line: 1>\u001b[0;34m()\u001b[0m\n\u001b[0;32m----> 1\u001b[0;31m \u001b[0minputs\u001b[0m \u001b[0;34m=\u001b[0m \u001b[0mcreateInputs\u001b[0m\u001b[0;34m(\u001b[0m\u001b[0;34m\"i am great\"\u001b[0m\u001b[0;34m)\u001b[0m\u001b[0;34m\u001b[0m\u001b[0;34m\u001b[0m\u001b[0m\n\u001b[0m\u001b[1;32m      2\u001b[0m \u001b[0mout\u001b[0m\u001b[0;34m,\u001b[0m \u001b[0m_\u001b[0m \u001b[0;34m=\u001b[0m \u001b[0mrnn\u001b[0m\u001b[0;34m.\u001b[0m\u001b[0mforward\u001b[0m\u001b[0;34m(\u001b[0m\u001b[0minputs\u001b[0m\u001b[0;34m)\u001b[0m\u001b[0;34m\u001b[0m\u001b[0;34m\u001b[0m\u001b[0m\n\u001b[1;32m      3\u001b[0m \u001b[0msoftmax\u001b[0m\u001b[0;34m(\u001b[0m\u001b[0mout\u001b[0m\u001b[0;34m)\u001b[0m\u001b[0;34m\u001b[0m\u001b[0;34m\u001b[0m\u001b[0m\n\u001b[1;32m      4\u001b[0m \u001b[0;34m\u001b[0m\u001b[0m\n\u001b[1;32m      5\u001b[0m \u001b[0;31m# Out of Vocab Word\u001b[0m\u001b[0;34m\u001b[0m\u001b[0;34m\u001b[0m\u001b[0m\n",
            "\u001b[0;32m<ipython-input-7-d51e01df59d9>\u001b[0m in \u001b[0;36mcreateInputs\u001b[0;34m(text)\u001b[0m\n\u001b[1;32m     11\u001b[0m   \u001b[0;32mfor\u001b[0m \u001b[0mw\u001b[0m \u001b[0;32min\u001b[0m \u001b[0mtext\u001b[0m\u001b[0;34m.\u001b[0m\u001b[0msplit\u001b[0m\u001b[0;34m(\u001b[0m\u001b[0;34m' '\u001b[0m\u001b[0;34m)\u001b[0m\u001b[0;34m:\u001b[0m\u001b[0;34m\u001b[0m\u001b[0;34m\u001b[0m\u001b[0m\n\u001b[1;32m     12\u001b[0m     \u001b[0mv\u001b[0m \u001b[0;34m=\u001b[0m \u001b[0mnp\u001b[0m\u001b[0;34m.\u001b[0m\u001b[0mzeros\u001b[0m\u001b[0;34m(\u001b[0m\u001b[0;34m(\u001b[0m\u001b[0mvocab_size\u001b[0m\u001b[0;34m,\u001b[0m \u001b[0;36m1\u001b[0m\u001b[0;34m)\u001b[0m\u001b[0;34m)\u001b[0m\u001b[0;34m\u001b[0m\u001b[0;34m\u001b[0m\u001b[0m\n\u001b[0;32m---> 13\u001b[0;31m     \u001b[0mv\u001b[0m\u001b[0;34m[\u001b[0m\u001b[0mword_to_idx\u001b[0m\u001b[0;34m[\u001b[0m\u001b[0mw\u001b[0m\u001b[0;34m]\u001b[0m\u001b[0;34m]\u001b[0m \u001b[0;34m=\u001b[0m \u001b[0;36m1\u001b[0m\u001b[0;34m\u001b[0m\u001b[0;34m\u001b[0m\u001b[0m\n\u001b[0m\u001b[1;32m     14\u001b[0m     \u001b[0minputs\u001b[0m\u001b[0;34m.\u001b[0m\u001b[0mappend\u001b[0m\u001b[0;34m(\u001b[0m\u001b[0mv\u001b[0m\u001b[0;34m)\u001b[0m\u001b[0;34m\u001b[0m\u001b[0;34m\u001b[0m\u001b[0m\n\u001b[1;32m     15\u001b[0m   \u001b[0;32mreturn\u001b[0m \u001b[0minputs\u001b[0m\u001b[0;34m\u001b[0m\u001b[0;34m\u001b[0m\u001b[0m\n",
            "\u001b[0;31mKeyError\u001b[0m: 'great'"
          ]
        }
      ]
    },
    {
      "cell_type": "code",
      "source": [],
      "metadata": {
        "id": "ZfX-UfNsVEFL"
      },
      "execution_count": null,
      "outputs": []
    }
  ]
}